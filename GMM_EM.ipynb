{
 "cells": [
  {
   "cell_type": "markdown",
   "metadata": {},
   "source": [
    "## 多元高斯分布的EM算法实现"
   ]
  },
  {
   "cell_type": "markdown",
   "metadata": {},
   "source": [
    "因为要用到GMM的EM算法，所以自己写了一个（本人很菜，这一点代码写了两天）。写完发现sklearn的包里有。。那不如检测一下自己写的对不对吧。嘿嘿。做了下实现，用同一组参数初始化，看下来是没问题的。"
   ]
  },
  {
   "cell_type": "code",
   "execution_count": 1,
   "metadata": {},
   "outputs": [],
   "source": [
    "from IPython.core.interactiveshell import InteractiveShell\n",
    "InteractiveShell.ast_node_interactivity = \"all\" "
   ]
  },
  {
   "cell_type": "code",
   "execution_count": 2,
   "metadata": {},
   "outputs": [],
   "source": [
    "import numpy as np\n",
    "from numpy import linalg\n",
    "import math\n",
    "from sklearn.mixture import GaussianMixture\n",
    "\n",
    "\n",
    "class GMM(object):\n",
    "    def __init__(self, X, K):\n",
    "        self.N, self.D = X.shape\n",
    "        self.K = K\n",
    "        self.Mu, self.Sigma, self.Pi, self.Gamma = self.init_params()\n",
    "    \n",
    "    def init_params(self):\n",
    "        Mu = np.random.rand(self.K, self.D)  # K*D\n",
    "        Sigma = np.array([np.eye(self.D)] * self.K) * 0.1  # K*D*D\n",
    "        Pi = np.array([1.0 / self.K] * self.K)  # K\n",
    "        Gamma = np.random.rand(self.N, self.K)\n",
    "        return Mu, Sigma, Pi, Gamma\n",
    "    \n",
    "    def e_step(self, X):\n",
    "        prob = []\n",
    "        for i in range(self.K):\n",
    "            prob.append(get_Gaussian_prob(X, self.Mu[i], self.Sigma[i]))\n",
    "        prob = np.array(prob).T\n",
    "        Pi_Gussian = prob * self.Pi\n",
    "        sum_K = np.sum(Pi_Gussian, axis=1)\n",
    "        return (Pi_Gussian.T / sum_K).T  # Gamma\n",
    "    \n",
    "    def m_step(self, X):\n",
    "        NK = np.sum(self.Gamma, axis=0)\n",
    "        _1_NK = 1 / NK\n",
    "        # get new Mu\n",
    "        m = np.dot(self.Gamma.T, X)\n",
    "        newMu = (_1_NK * m.T).T\n",
    "        # get new Sigma\n",
    "        newSigma = []\n",
    "        for i in range(self.K):\n",
    "            newSigma.append(_1_NK[i] * np.dot((self.Gamma[:, i] * (X - newMu[i]).T), (X - newMu[i])))\n",
    "        newSigma = np.array(newSigma)\n",
    "        # get Pi\n",
    "        newPi = NK / self.N\n",
    "        return newMu, newSigma, newPi\n",
    "    \n",
    "    def train(self, X, times):\n",
    "        for i in range(times):\n",
    "            self.Gamma = self.e_step(X)\n",
    "            self.Mu, self.Sigma, self.Pi = self.m_step(X)\n",
    "        return self.Mu, self.Sigma, self.Pi, self.Gamma\n",
    "\n",
    "\n",
    "def get_Gaussian_prob(X, mu, sigma):\n",
    "    \"\"\"已知一个高斯分布的参数，求其概率\"\"\"\n",
    "    D = len(sigma)\n",
    "    if X.size == D:\n",
    "        n = 1\n",
    "    else:\n",
    "        n, _ = X.shape\n",
    "    det = linalg.det(sigma)\n",
    "    \n",
    "    norm_const = 1.0 / (math.pow(2 * math.pi, float(D) / 2) * math.pow(det, 1.0 / 2))\n",
    "    x_mu = np.array(X - mu)\n",
    "    inv = linalg.inv(sigma)\n",
    "    result = np.power(math.e, -0.5 * np.dot(np.dot(x_mu, inv), x_mu.T))\n",
    "    if n != 1:\n",
    "        result = np.diag(result)\n",
    "    return norm_const * result\n"
   ]
  },
  {
   "cell_type": "code",
   "execution_count": null,
   "metadata": {},
   "outputs": [],
   "source": []
  },
  {
   "cell_type": "code",
   "execution_count": 3,
   "metadata": {},
   "outputs": [],
   "source": [
    "K,D,n = 2,3,5"
   ]
  },
  {
   "cell_type": "code",
   "execution_count": 4,
   "metadata": {},
   "outputs": [],
   "source": [
    "def init_params(K, D):\n",
    "    Mu = np.random.rand(K, D)  # K*D\n",
    "    Sigma = np.array([np.eye(D)] * K) * 0.1  # K*D*D\n",
    "    Pi = np.array([1.0 / K] * K)  # K\n",
    "    return Mu, Sigma, Pi\n",
    "\n",
    "Mu, Sigma, Pi = init_params(K,D)\n",
    "X = np.random.rand(n, D)\n"
   ]
  },
  {
   "cell_type": "code",
   "execution_count": 5,
   "metadata": {},
   "outputs": [
    {
     "data": {
      "text/plain": [
       "array([[0.19571869, 0.04502597, 0.55998468],\n",
       "       [0.37129604, 0.09157221, 0.87149954]])"
      ]
     },
     "execution_count": 5,
     "metadata": {},
     "output_type": "execute_result"
    },
    {
     "data": {
      "text/plain": [
       "array([[[0.1, 0. , 0. ],\n",
       "        [0. , 0.1, 0. ],\n",
       "        [0. , 0. , 0.1]],\n",
       "\n",
       "       [[0.1, 0. , 0. ],\n",
       "        [0. , 0.1, 0. ],\n",
       "        [0. , 0. , 0.1]]])"
      ]
     },
     "execution_count": 5,
     "metadata": {},
     "output_type": "execute_result"
    },
    {
     "data": {
      "text/plain": [
       "array([0.5, 0.5])"
      ]
     },
     "execution_count": 5,
     "metadata": {},
     "output_type": "execute_result"
    },
    {
     "data": {
      "text/plain": [
       "array([[0.02139303, 0.7811423 , 0.48241082],\n",
       "       [0.79871001, 0.15815766, 0.43721512],\n",
       "       [0.63534214, 0.43237055, 0.13972686],\n",
       "       [0.03113701, 0.7675715 , 0.86453491],\n",
       "       [0.98713439, 0.30671128, 0.18768251]])"
      ]
     },
     "execution_count": 5,
     "metadata": {},
     "output_type": "execute_result"
    }
   ],
   "source": [
    "Mu\n",
    "Sigma\n",
    "Pi\n",
    "X"
   ]
  },
  {
   "cell_type": "code",
   "execution_count": 6,
   "metadata": {},
   "outputs": [],
   "source": [
    "# 自己写的GMM\n",
    "gmmzj = GMM(X,K)\n",
    "gmmzj.Mu, gmmzj.Sigma, gmmzj.Pi = Mu, Sigma, Pi"
   ]
  },
  {
   "cell_type": "code",
   "execution_count": 7,
   "metadata": {},
   "outputs": [],
   "source": [
    "# sklearn的包\n",
    "gmmsk = GaussianMixture(n_components=K, weights_init=Pi, means_init=Mu, precisions_init=linalg.inv(Sigma), max_iter=2)"
   ]
  },
  {
   "cell_type": "code",
   "execution_count": 8,
   "metadata": {},
   "outputs": [
    {
     "data": {
      "text/plain": [
       "(array([[0.49494183, 0.50316971, 0.36650481],\n",
       "        [0.49447294, 0.47015159, 0.49832464]]),\n",
       " array([[[ 0.15608295, -0.08766777, -0.06588976],\n",
       "         [-0.08766777,  0.05471829,  0.03240687],\n",
       "         [-0.06588976,  0.03240687,  0.05291524]],\n",
       " \n",
       "        [[ 0.16231338, -0.10061026, -0.09171623],\n",
       "         [-0.10061026,  0.07074169,  0.05029592],\n",
       "         [-0.09171623,  0.05029592,  0.07583287]]]),\n",
       " array([0.5766249, 0.4233751]),\n",
       " array([[0.79573658, 0.20426342],\n",
       "        [0.3826533 , 0.6173467 ],\n",
       "        [0.75416763, 0.24583237],\n",
       "        [0.3275795 , 0.6724205 ],\n",
       "        [0.62298746, 0.37701254]]))"
      ]
     },
     "execution_count": 8,
     "metadata": {},
     "output_type": "execute_result"
    }
   ],
   "source": [
    "# 迭代两次\n",
    "gmmzj.train(X,2)"
   ]
  },
  {
   "cell_type": "code",
   "execution_count": 9,
   "metadata": {},
   "outputs": [
    {
     "name": "stderr",
     "output_type": "stream",
     "text": [
      "/home/carbondata/.pyenv/versions/3.6.5/envs/xyl/lib/python3.6/site-packages/sklearn/mixture/base.py:273: ConvergenceWarning: Initialization 1 did not converge. Try different init parameters, or increase max_iter, tol or check for degenerate data.\n",
      "  % (init + 1), ConvergenceWarning)\n"
     ]
    },
    {
     "data": {
      "text/plain": [
       "GaussianMixture(covariance_type='full', init_params='kmeans', max_iter=2,\n",
       "        means_init=array([[0.19572, 0.04503, 0.55998],\n",
       "       [0.3713 , 0.09157, 0.8715 ]]),\n",
       "        n_components=2, n_init=1,\n",
       "        precisions_init=array([[[10.,  0.,  0.],\n",
       "        [ 0., 10.,  0.],\n",
       "        [ 0.,  0., 10.]],\n",
       "\n",
       "       [[10.,  0.,  0.],\n",
       "        [ 0., 10.,  0.],\n",
       "        [ 0.,  0., 10.]]]),\n",
       "        random_state=None, reg_covar=1e-06, tol=0.001, verbose=0,\n",
       "        verbose_interval=10, warm_start=False,\n",
       "        weights_init=array([0.5, 0.5]))"
      ]
     },
     "execution_count": 9,
     "metadata": {},
     "output_type": "execute_result"
    },
    {
     "data": {
      "text/plain": [
       "array([[0.49494685, 0.50316453, 0.36650908],\n",
       "       [0.49446609, 0.47015811, 0.49832092]])"
      ]
     },
     "execution_count": 9,
     "metadata": {},
     "output_type": "execute_result"
    },
    {
     "data": {
      "text/plain": [
       "array([[[ 0.15608373, -0.08766827, -0.06589002],\n",
       "        [-0.08766827,  0.0547203 ,  0.03240688],\n",
       "        [-0.06589002,  0.03240688,  0.05291725]],\n",
       "\n",
       "       [[ 0.16231478, -0.10061   , -0.09171539],\n",
       "        [-0.10061   ,  0.07074202,  0.05029515],\n",
       "        [-0.09171539,  0.05029515,  0.07583411]]])"
      ]
     },
     "execution_count": 9,
     "metadata": {},
     "output_type": "execute_result"
    },
    {
     "data": {
      "text/plain": [
       "array([0.57663165, 0.42336835])"
      ]
     },
     "execution_count": 9,
     "metadata": {},
     "output_type": "execute_result"
    }
   ],
   "source": [
    "# 迭代两次\n",
    "gmmsk.fit(X)\n",
    "\n",
    "gmmsk.means_\n",
    "gmmsk.covariances_\n",
    "gmmsk.weights_"
   ]
  },
  {
   "cell_type": "code",
   "execution_count": null,
   "metadata": {},
   "outputs": [],
   "source": []
  }
 ],
 "metadata": {
  "kernelspec": {
   "display_name": "Python 3",
   "language": "python",
   "name": "python3"
  },
  "language_info": {
   "codemirror_mode": {
    "name": "ipython",
    "version": 3
   },
   "file_extension": ".py",
   "mimetype": "text/x-python",
   "name": "python",
   "nbconvert_exporter": "python",
   "pygments_lexer": "ipython3",
   "version": "3.6.5"
  }
 },
 "nbformat": 4,
 "nbformat_minor": 2
}
